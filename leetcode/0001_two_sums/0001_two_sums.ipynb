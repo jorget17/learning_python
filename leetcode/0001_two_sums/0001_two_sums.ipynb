{
 "cells": [
  {
   "cell_type": "markdown",
   "id": "de826ddf",
   "metadata": {},
   "source": [
    "#1# Two Sum\n",
    "===========\n",
    "\n",
    "----\n",
    "Easy\n",
    "----\n",
    "\n",
    "Given an array of integers nums and an integer target, return indices of the two numbers such that they add up to target.\n",
    "\n",
    "You may assume that each input would have exactly one solution, and you may not use the same element twice.\n",
    "\n",
    "You can return the answer in any order.\n",
    "\n",
    " \n",
    "Example 1:\n",
    "\n",
    "Input: nums = [2,7,11,15], target = 9\n",
    "Output: [0,1]\n",
    "Explanation: Because nums[0] + nums[1] == 9, we return [0, 1].\n",
    "\n",
    "Example 2:\n",
    "\n",
    "Input: nums = [3,2,4], target = 6\n",
    "Output: [1,2]\n",
    "\n",
    "Example 3:\n",
    "\n",
    "Input: nums = [3,3], target = 6\n",
    "Output: [0,1]\n",
    " \n",
    "Constraints:\n",
    "\n",
    "2 <= nums.length <= 104\n",
    "\n",
    "-109 <= nums[i] <= 109\n",
    "\n",
    "-109 <= target <= 109\n",
    "\n",
    "Only one valid answer exists.\n",
    " \n",
    "Follow-up: Can you come up with an algorithm that is less than O(n^2) time complexity?"
   ]
  },
  {
   "cell_type": "code",
   "execution_count": 1,
   "id": "powered-spectrum",
   "metadata": {},
   "outputs": [],
   "source": [
    "from itertools import combinations"
   ]
  },
  {
   "cell_type": "code",
   "execution_count": 2,
   "id": "a86a4a1d",
   "metadata": {},
   "outputs": [],
   "source": [
    "def two_sums(numbers, target):\n",
    "    comb = combinations(numbers, 2)\n",
    "    for c in comb:\n",
    "        if sum(c) == target:\n",
    "            print(f'You must sum the items with index {numbers.index(c[0])} and {numbers.index(c[1])} in the list, {c[0]} and {c[1]}, in order to obtain {target}.')\n",
    "            break\n",
    "    "
   ]
  },
  {
   "cell_type": "code",
   "execution_count": 3,
   "id": "western-peace",
   "metadata": {},
   "outputs": [],
   "source": [
    "nums = [2,7,11,15,23]\n",
    "target = 18"
   ]
  },
  {
   "cell_type": "code",
   "execution_count": 4,
   "id": "italian-transformation",
   "metadata": {},
   "outputs": [
    {
     "name": "stdout",
     "output_type": "stream",
     "text": [
      "You must sum the items with index 1 and 2 in the list, 7 and 11, in order to obtain 18.\n"
     ]
    }
   ],
   "source": [
    "two_sums(nums, target)"
   ]
  },
  {
   "cell_type": "code",
   "execution_count": null,
   "id": "6d11e021",
   "metadata": {},
   "outputs": [],
   "source": []
  }
 ],
 "metadata": {
  "kernelspec": {
   "display_name": "Python 3",
   "language": "python",
   "name": "python3"
  },
  "language_info": {
   "codemirror_mode": {
    "name": "ipython",
    "version": 3
   },
   "file_extension": ".py",
   "mimetype": "text/x-python",
   "name": "python",
   "nbconvert_exporter": "python",
   "pygments_lexer": "ipython3",
   "version": "3.10.2"
  }
 },
 "nbformat": 4,
 "nbformat_minor": 5
}
