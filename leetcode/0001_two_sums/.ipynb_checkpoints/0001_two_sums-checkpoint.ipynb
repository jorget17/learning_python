{
 "cells": [
  {
   "cell_type": "code",
   "execution_count": 1,
   "id": "powered-spectrum",
   "metadata": {},
   "outputs": [],
   "source": [
    "from itertools import combinations"
   ]
  },
  {
   "cell_type": "code",
   "execution_count": 2,
   "id": "western-peace",
   "metadata": {},
   "outputs": [],
   "source": [
    "nums = [2,7,11,15]"
   ]
  },
  {
   "cell_type": "code",
   "execution_count": 3,
   "id": "italian-transformation",
   "metadata": {},
   "outputs": [],
   "source": [
    "comb = combinations(nums, 2)"
   ]
  },
  {
   "cell_type": "code",
   "execution_count": 6,
   "id": "refined-hepatitis",
   "metadata": {},
   "outputs": [
    {
     "name": "stdout",
     "output_type": "stream",
     "text": [
      "(2, 7)\n",
      "(2, 11)\n",
      "(2, 15)\n",
      "(7, 11)\n",
      "(7, 15)\n",
      "(11, 15)\n"
     ]
    }
   ],
   "source": [
    "for c in comb:\n",
    "    print(c)"
   ]
  },
  {
   "cell_type": "code",
   "execution_count": 5,
   "id": "prerequisite-vatican",
   "metadata": {},
   "outputs": [
    {
     "name": "stdout",
     "output_type": "stream",
     "text": [
      "<itertools.combinations object at 0x00000299C98C1F40>\n"
     ]
    }
   ],
   "source": [
    "print(comb)"
   ]
  },
  {
   "cell_type": "code",
   "execution_count": null,
   "id": "religious-auditor",
   "metadata": {},
   "outputs": [],
   "source": [
    "for"
   ]
  }
 ],
 "metadata": {
  "kernelspec": {
   "display_name": "Python 3",
   "language": "python",
   "name": "python3"
  },
  "language_info": {
   "codemirror_mode": {
    "name": "ipython",
    "version": 3
   },
   "file_extension": ".py",
   "mimetype": "text/x-python",
   "name": "python",
   "nbconvert_exporter": "python",
   "pygments_lexer": "ipython3",
   "version": "3.9.6"
  }
 },
 "nbformat": 4,
 "nbformat_minor": 5
}
